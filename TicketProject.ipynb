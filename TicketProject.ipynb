{
  "nbformat": 4,
  "nbformat_minor": 0,
  "metadata": {
    "colab": {
      "provenance": [],
      "authorship_tag": "ABX9TyN96oaDJ0XLYwBibi4cm12R",
      "include_colab_link": true
    },
    "kernelspec": {
      "name": "python3",
      "display_name": "Python 3"
    },
    "language_info": {
      "name": "python"
    }
  },
  "cells": [
    {
      "cell_type": "markdown",
      "metadata": {
        "id": "view-in-github",
        "colab_type": "text"
      },
      "source": [
        "<a href=\"https://colab.research.google.com/github/AmarPatel4/UM/blob/main/Bte324.ipynb\" target=\"_parent\"><img src=\"https://colab.research.google.com/assets/colab-badge.svg\" alt=\"Open In Colab\"/></a>"
      ]
    },
    {
      "cell_type": "code",
      "execution_count": null,
      "metadata": {
        "colab": {
          "base_uri": "https://localhost:8080/"
        },
        "id": "O4D6yiSM5lkS",
        "outputId": "bd1b3fee-af64-45ad-bd2d-42be83ec7721"
      },
      "outputs": [
        {
          "metadata": {
            "tags": null
          },
          "name": "stdout",
          "output_type": "stream",
          "text": [
            "1: 10\n",
            "2: 10\n",
            "3: 12.5\n",
            "4: 15.0\n",
            "5: 17.5\n",
            "6: 20\n",
            "7: 20\n",
            "8: 20\n"
          ]
        }
      ],
      "source": [
        "a = 5\n",
        "hour = 0\n",
        "for i in range(0,8):\n",
        "  a = a+2.5\n",
        "  hour = hour+1\n",
        "  if a <= 10:\n",
        "    print(f\"{hour}:\", 10)\n",
        "  elif a >= 20:\n",
        "    print(f\"{hour}:\",20)\n",
        "  else:\n",
        "    print(f\"{hour}:\",a)\n"
      ]
    }
  ]
}
