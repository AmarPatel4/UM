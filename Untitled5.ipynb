{
  "nbformat": 4,
  "nbformat_minor": 0,
  "metadata": {
    "colab": {
      "provenance": [],
      "authorship_tag": "ABX9TyNWW5uNovSm50WFLhweUqx+",
      "include_colab_link": true
    },
    "kernelspec": {
      "name": "python3",
      "display_name": "Python 3"
    },
    "language_info": {
      "name": "python"
    }
  },
  "cells": [
    {
      "cell_type": "markdown",
      "metadata": {
        "id": "view-in-github",
        "colab_type": "text"
      },
      "source": [
        "<a href=\"https://colab.research.google.com/github/AmarPatel4/UM/blob/main/Untitled5.ipynb\" target=\"_parent\"><img src=\"https://colab.research.google.com/assets/colab-badge.svg\" alt=\"Open In Colab\"/></a>"
      ]
    },
    {
      "cell_type": "code",
      "execution_count": 53,
      "metadata": {
        "colab": {
          "base_uri": "https://localhost:8080/"
        },
        "id": "d062zAqm9dOM",
        "outputId": "c1b81d50-861e-4cc1-a778-05bf2523df1d"
      },
      "outputs": [
        {
          "output_type": "stream",
          "name": "stdout",
          "text": [
            "Enter the Date (MM/DD/YYYY):\n",
            "02/21/2024\n",
            "the month is: 02\n",
            "the day is: 21\n",
            "the year is: 2024\n"
          ]
        }
      ],
      "source": [
        "date=(input(\"Enter the Date (MM/DD/YYYY):\\n\"))\n",
        "month = date[:2]\n",
        "print(f\"the month is: {month}\")\n",
        "day= date[3:5]\n",
        "print(f\"the day is: {day}\")\n",
        "year = date[6:10]\n",
        "print(f\"the year is: {year}\")"
      ]
    }
  ]
}