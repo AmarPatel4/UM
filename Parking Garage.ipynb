{
  "nbformat": 4,
  "nbformat_minor": 0,
  "metadata": {
    "colab": {
      "provenance": [],
      "authorship_tag": "ABX9TyNWnp4SjPKC/jIdDX0qeGhp",
      "include_colab_link": true
    },
    "kernelspec": {
      "name": "python3",
      "display_name": "Python 3"
    },
    "language_info": {
      "name": "python"
    }
  },
  "cells": [
    {
      "cell_type": "markdown",
      "metadata": {
        "id": "view-in-github",
        "colab_type": "text"
      },
      "source": [
        "<a href=\"https://colab.research.google.com/github/AmarPatel4/UM/blob/main/Parking%20Garage.ipynb\" target=\"_parent\"><img src=\"https://colab.research.google.com/assets/colab-badge.svg\" alt=\"Open In Colab\"/></a>"
      ]
    },
    {
      "cell_type": "code",
      "execution_count": 1,
      "metadata": {
        "colab": {
          "base_uri": "https://localhost:8080/"
        },
        "id": "Rome4zLbLa9a",
        "outputId": "bd553884-9e84-4a15-d3ac-22991fb9a70e"
      },
      "outputs": [
        {
          "output_type": "stream",
          "name": "stdout",
          "text": [
            "Hours 1 - $ 10\n",
            "Hours 2 - $ 10\n",
            "Hours 3 - $ 12.5\n",
            "Hours 4 - $ 15.0\n",
            "Hours 5 - $ 17.5\n",
            "Hours 6 - $ 20\n",
            "Hours 7 - $ 20\n",
            "Hours 8 - $ 20\n"
          ]
        }
      ],
      "source": [
        "for hour in range (1, 9):\n",
        "  price = (hour*2.5)+5\n",
        "  if price <= 10:\n",
        "    price =10\n",
        "  if price >= 20:\n",
        "    price = 20\n",
        "  print ('Hours', hour, '- $', price)\n",
        "\n",
        ""
      ]
    }
  ]
}