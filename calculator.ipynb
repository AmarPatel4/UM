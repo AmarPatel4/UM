{
  "nbformat": 4,
  "nbformat_minor": 0,
  "metadata": {
    "colab": {
      "provenance": [],
      "authorship_tag": "ABX9TyO4Lva2kGLU+1nXpZjpfHxf"
    },
    "kernelspec": {
      "name": "python3",
      "display_name": "Python 3"
    },
    "language_info": {
      "name": "python"
    }
  },
  "cells": [
    {
      "cell_type": "code",
      "execution_count": 1,
      "metadata": {
        "colab": {
          "base_uri": "https://localhost:8080/"
        },
        "id": "bhaeNQVppUnB",
        "outputId": "6da8a7d1-ccce-407d-8abe-69c3634c330d"
      },
      "outputs": [
        {
          "name": "stdout",
          "output_type": "stream",
          "text": [
            "Enter the type of operation you would like to do: (addition, subtraction, multiplication, division)\n",
            "+\n",
            "You have chosen addition\n",
            "Enter your first number: 2\n",
            "Enter your second number: 1\n",
            "The sum is 3\n",
            "Would you like to perform another operation (yes/no): yes\n",
            "Enter the type of operation you would like to do: (addition, subtraction, multiplication, division)\n",
            "-\n",
            "You have chosen subtraction\n",
            "Enter your first number: 10\n",
            "Enter your second number: 2\n",
            "The difference is 8\n",
            "Would you like to perform another operation (yes/no): no\n"
          ]
        }
      ],
      "source": [
        "Status = \"online\"\n",
        "\n",
        "AmtNum = 0\n",
        "result = 0\n",
        "\n",
        "while Status == \"online\":\n",
        "  Option = input(\"Enter the type of operation you would like to do: (addition, subtraction, multiplication, division)\\n\")\n",
        "  if Option == \"addition\" or Option == \"Addition\" or Option == \"+\":\n",
        "    print(\"You have chosen addition\")\n",
        "    num1 = int(input(\"Enter your first number: \"))\n",
        "    num2 = int(input(\"Enter your second number: \"))\n",
        "    result = num1 + num2\n",
        "    print(f\"The sum is {result}\")\n",
        "  elif Option == \"subtraction\" or Option == \"Subtraction\" or Option == \"-\":\n",
        "    print(\"You have chosen subtraction\")\n",
        "    num1 = int(input(\"Enter your first number: \"))\n",
        "    num2 = int(input(\"Enter your second number: \"))\n",
        "    result = num1 - num2\n",
        "    print(f\"The difference is {result}\")\n",
        "  elif Option == \"multiplication\" or Option == \"Multiplication\" or Option == \"*\":\n",
        "    print(\"You have chosen multiplication\")\n",
        "    num1 = int(input(\"Enter your first number: \"))\n",
        "    num2 = int(input(\"Enter your second number: \"))\n",
        "    result = num1 * num2\n",
        "    print(f\"The result is {result}\")\n",
        "  elif Option == \"division\" or Option == \"Division\" or Option == \"/\":\n",
        "    print(\"You have chosen subtraction\")\n",
        "    num1 = float(input(\"Enter your first number: \"))\n",
        "    num2 = float(input(\"Enter your second number: \"))\n",
        "    result = num1 / num2\n",
        "    print(f\"The result is {result}\")\n",
        "  answer = input(\"Would you like to perform another operation (yes/no): \")\n",
        "  if answer == \"yes\":\n",
        "    Status = \"online\"\n",
        "  else:\n",
        "    Status = \"offline\"\n",
        "\n",
        "\n"
      ]
    }
  ]
}