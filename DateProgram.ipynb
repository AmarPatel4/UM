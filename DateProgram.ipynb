{
  "nbformat": 4,
  "nbformat_minor": 0,
  "metadata": {
    "colab": {
      "provenance": [],
      "authorship_tag": "ABX9TyOSJvNC3pJPgVBBOuoKjSgK",
      "include_colab_link": true
    },
    "kernelspec": {
      "name": "python3",
      "display_name": "Python 3"
    },
    "language_info": {
      "name": "python"
    }
  },
  "cells": [
    {
      "cell_type": "markdown",
      "metadata": {
        "id": "view-in-github",
        "colab_type": "text"
      },
      "source": [
        "<a href=\"https://colab.research.google.com/github/AmarPatel4/UM/blob/main/DateProgram.ipynb\" target=\"_parent\"><img src=\"https://colab.research.google.com/assets/colab-badge.svg\" alt=\"Open In Colab\"/></a>"
      ]
    },
    {
      "cell_type": "code",
      "execution_count": 1,
      "metadata": {
        "id": "6f5iEbvUM8LY",
        "outputId": "a9dda575-be13-4041-e627-066a8b2b5179",
        "colab": {
          "base_uri": "https://localhost:8080/"
        }
      },
      "outputs": [
        {
          "output_type": "stream",
          "name": "stdout",
          "text": [
            "Enter date (MM/DD/YYYY): 04/20/2011\n",
            "04/20/2011\n",
            "Month is: 04\n",
            "Day is: 20\n",
            "Year is: 2011\n"
          ]
        }
      ],
      "source": [
        "userinput = input('Enter date (MM/DD/YYYY): ')\n",
        "print(userinput)\n",
        "month = userinput [0:2]\n",
        "day = userinput [3:5]\n",
        "year = userinput [6:10]\n",
        "print('Month is:', month)\n",
        "print('Day is:', day)\n",
        "print('Year is:', year)\n",
        ""
      ]
    }
  ]
}