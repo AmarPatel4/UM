{
  "nbformat": 4,
  "nbformat_minor": 0,
  "metadata": {
    "colab": {
      "provenance": [],
      "authorship_tag": "ABX9TyOqhOX97DATzfL7DR8GccYl",
      "include_colab_link": true
    },
    "kernelspec": {
      "name": "python3",
      "display_name": "Python 3"
    },
    "language_info": {
      "name": "python"
    }
  },
  "cells": [
    {
      "cell_type": "markdown",
      "metadata": {
        "id": "view-in-github",
        "colab_type": "text"
      },
      "source": [
        "<a href=\"https://colab.research.google.com/github/AmarPatel4/UM/blob/main/list.ipynb\" target=\"_parent\"><img src=\"https://colab.research.google.com/assets/colab-badge.svg\" alt=\"Open In Colab\"/></a>"
      ]
    },
    {
      "cell_type": "code",
      "execution_count": 7,
      "metadata": {
        "colab": {
          "base_uri": "https://localhost:8080/"
        },
        "id": "XTeh8LyeELBe",
        "outputId": "f8cfb2a8-42bc-41bc-c2bc-f1584d710bf1"
      },
      "outputs": [
        {
          "output_type": "stream",
          "name": "stdout",
          "text": [
            "enter the value:3\n",
            "enter the value:2\n",
            "enter the value:1\n",
            "enter the value:0\n",
            "[3, 2, 1]\n"
          ]
        }
      ],
      "source": [
        "a = 1\n",
        "L = []\n",
        "\n",
        "a = int(input(\"enter the value:\"))\n",
        "while a !=0:\n",
        "  L.append(a)\n",
        "  a = int(input(\"enter the value:\"))\n",
        "\n",
        "print(L)"
      ]
    }
  ]
}